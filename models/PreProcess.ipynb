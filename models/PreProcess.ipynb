{
 "cells": [
  {
   "cell_type": "code",
   "execution_count": 1,
   "metadata": {},
   "outputs": [],
   "source": [
    "import os\n",
    "import shutil\n",
    "import numpy as np"
   ]
  },
  {
   "cell_type": "code",
   "execution_count": 2,
   "metadata": {},
   "outputs": [],
   "source": [
    "\"\"\"OUR Encoding\"\"\"\n",
    "\"\"\"\n",
    "0: anger\n",
    "1: disgust\n",
    "2: fear\n",
    "3: happy\n",
    "4: neutral\n",
    "5: sad\n",
    "6: surprise\n",
    "\"\"\"\n",
    "\n",
    "\"\"\"RAFDB Encoding\"\"\"\n",
    "\"\"\"\n",
    "1: Surprise\n",
    "2: Fear\n",
    "3: Disgust\n",
    "4: Happiness\n",
    "5: Sadness\n",
    "6: Anger\n",
    "7: Neutral\n",
    "\"\"\"\n",
    "\n",
    "\"\"\"AffectNet Encoding\"\"\"\n",
    "\"\"\"\n",
    "1: Neutral\n",
    "2: Happy\n",
    "3: Sad\n",
    "4: Surprise\n",
    "5: Fear\n",
    "6: Disgust\n",
    "7: Anger\n",
    "\"\"\"\n",
    "\n",
    "CLASSES = {'angry':0,\n",
    "           'disgust':1,\n",
    "           'fear':2,\n",
    "           'happy':3,\n",
    "           'neutral':4,\n",
    "           'sad':5,\n",
    "           'surprise':6,\n",
    "           '1':6,\n",
    "           '2':2,\n",
    "           '3':1,\n",
    "           '4':3,\n",
    "           '5':5,\n",
    "           '6':0,\n",
    "           '7':4,\n",
    "           'class001':4,\n",
    "           'class002':3,\n",
    "           'class003':5,\n",
    "           'class004':6,\n",
    "           'class005':2,\n",
    "           'class006':1,\n",
    "           'class007':0\n",
    "           }\n",
    "\n",
    "ID = 0\n",
    "\n",
    "def MoveToAllSets(current_directory,filename,path):\n",
    "    shutil.move(current_directory, '../datasets/'+path+'/'+filename)\n",
    "\n",
    "# Nameing: emotion-id"
   ]
  },
  {
   "cell_type": "markdown",
   "metadata": {},
   "source": [
    "## 1 - FER13"
   ]
  },
  {
   "cell_type": "code",
   "execution_count": 3,
   "metadata": {},
   "outputs": [],
   "source": [
    "class FER13:\n",
    "    def __init__(self, directory):\n",
    "        self.Process(directory)\n",
    "        return\n",
    "\n",
    "    def Process(self, directory):\n",
    "        global ID\n",
    "        folders = ['train', 'test']\n",
    "        classes = ['angry','disgust','fear','happy','neutral','sad','surprise']\n",
    "        \n",
    "        for category in folders:\n",
    "            for c in classes:\n",
    "                direc = directory+'/'+category+'/'+c\n",
    "                d = os.fsencode(direc)\n",
    "                for img in os.listdir(d):\n",
    "                    filename = os.fsdecode(img)\n",
    "                    MoveToAllSets(direc+'/'+filename,\n",
    "                                str(CLASSES[c])+'-'+str(ID)+'.jpg','AllSets')\n",
    "                    ID += 1\n"
   ]
  },
  {
   "cell_type": "markdown",
   "metadata": {},
   "source": [
    "## 2 - RAFDB"
   ]
  },
  {
   "cell_type": "code",
   "execution_count": 4,
   "metadata": {},
   "outputs": [],
   "source": [
    "class RAFDB:\n",
    "    def __init__(self,directory):\n",
    "        self.Process(directory)\n",
    "        return\n",
    "\n",
    "    def Process(self,directory):\n",
    "        global ID\n",
    "        folders = ['train','test']\n",
    "\n",
    "        for category in folders:\n",
    "            f = open(directory+'/'+category+'.txt', 'r')\n",
    "            direc = directory+'/'+category\n",
    "            d = os.fsencode(direc)\n",
    "            for img in os.listdir(d):\n",
    "                filename = os.fsdecode(img)\n",
    "                label = f.readline().split()[1]\n",
    "                MoveToAllSets(direc+'/'+filename,\n",
    "                           str(CLASSES[label])+'-'+str(ID)+'.jpg','AllSets')\n",
    "                ID+=1"
   ]
  },
  {
   "cell_type": "markdown",
   "metadata": {},
   "source": [
    "## 3 - AffectNet"
   ]
  },
  {
   "cell_type": "code",
   "execution_count": 5,
   "metadata": {},
   "outputs": [],
   "source": [
    "class AffectNet:\n",
    "    def __init__(self,directory):\n",
    "        self.Process(directory)\n",
    "        return\n",
    "\n",
    "    def Process(self,directory):\n",
    "        global ID\n",
    "        folders = ['train_class','val_class']\n",
    "        classes = ['class001','class002','class003','class004','class005','class006','class007']\n",
    "\n",
    "        for category in folders:\n",
    "            for c in classes:\n",
    "                direc = directory+'/'+category+'/'+c\n",
    "                d = os.fsencode(direc)\n",
    "                for img in os.listdir(d):\n",
    "                    filename = os.fsdecode(img)\n",
    "                    MoveToAllSets(direc+'/'+filename,\n",
    "                               str(CLASSES[c])+'-'+str(ID)+'.jpg','AllSets')\n",
    "                    ID+=1"
   ]
  },
  {
   "cell_type": "markdown",
   "metadata": {},
   "source": [
    "## 4 - Moving all datasets to one set"
   ]
  },
  {
   "cell_type": "code",
   "execution_count": 6,
   "metadata": {},
   "outputs": [],
   "source": [
    "d1 = FER13(directory='../datasets/FER13')\n",
    "d2 = RAFDB(directory='../datasets/RAFDB')\n",
    "d3 = AffectNet(directory='../datasets/AffectNet')"
   ]
  },
  {
   "cell_type": "markdown",
   "metadata": {},
   "source": [
    "## 5 - Splitting to train and test"
   ]
  },
  {
   "cell_type": "code",
   "execution_count": 7,
   "metadata": {},
   "outputs": [],
   "source": [
    "rootdir = '../datasets/Final'\n",
    "os.makedirs(rootdir +'/train/')\n",
    "os.makedirs(rootdir +'/train/0')\n",
    "os.makedirs(rootdir +'/train/1')\n",
    "os.makedirs(rootdir +'/train/2')\n",
    "os.makedirs(rootdir +'/train/3')\n",
    "os.makedirs(rootdir +'/train/4')\n",
    "os.makedirs(rootdir +'/train/5')\n",
    "os.makedirs(rootdir +'/train/6')\n",
    "\n",
    "os.makedirs(rootdir +'/test/')\n",
    "os.makedirs(rootdir +'/test/0')\n",
    "os.makedirs(rootdir +'/test/1')\n",
    "os.makedirs(rootdir +'/test/2')\n",
    "os.makedirs(rootdir +'/test/3')\n",
    "os.makedirs(rootdir +'/test/4')\n",
    "os.makedirs(rootdir +'/test/5')\n",
    "os.makedirs(rootdir +'/test/6')\n",
    "\n",
    "source = '../datasets/AllSets'\n",
    "\n",
    "allFileNames = os.listdir(source)\n",
    "\n",
    "np.random.shuffle(allFileNames)\n",
    "\n",
    "test_ratio = 0.25\n",
    "\n",
    "train_FileNames, test_FileNames = np.split(np.array(allFileNames),\n",
    "                                                      [int(len(allFileNames)* (1 - test_ratio))])\n",
    "train_FileNames = [source+'/'+ name for name in train_FileNames.tolist()]\n",
    "test_FileNames = [source+'/' + name for name in test_FileNames.tolist()]\n",
    "\n",
    "for name in train_FileNames:\n",
    "  c = name.split('-')[0][-1]\n",
    "  shutil.copy(name, rootdir +'/train/'+c)\n",
    "\n",
    "for name in test_FileNames:\n",
    "  c = name.split('-')[0][-1]\n",
    "  shutil.copy(name, rootdir +'/test/'+c)\n"
   ]
  }
 ],
 "metadata": {
  "interpreter": {
   "hash": "e96865884db2e057d2b3065aba801503c919e3450cee33db26a5113ec74dc933"
  },
  "kernelspec": {
   "display_name": "Python 3.9.7 ('tf')",
   "language": "python",
   "name": "python3"
  },
  "language_info": {
   "codemirror_mode": {
    "name": "ipython",
    "version": 3
   },
   "file_extension": ".py",
   "mimetype": "text/x-python",
   "name": "python",
   "nbconvert_exporter": "python",
   "pygments_lexer": "ipython3",
   "version": "3.9.7"
  },
  "orig_nbformat": 4
 },
 "nbformat": 4,
 "nbformat_minor": 2
}
